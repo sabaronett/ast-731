{
 "cells": [
  {
   "cell_type": "markdown",
   "metadata": {},
   "source": [
    "# Numerical Assignment"
   ]
  },
  {
   "cell_type": "code",
   "execution_count": 30,
   "metadata": {},
   "outputs": [
    {
     "name": "stdout",
     "output_type": "stream",
     "text": [
      "-----------------------------------------------\n",
      "Index n\t  ξ₁\t\t-θₙ′(ξ₁)\tρ_c/<ρ>\n",
      "-----------------------------------------------\n",
      "  0.0\t2.4495\t\t0.81650\t\n",
      "  1.0\t3.1416\t\t0.31831\t\n",
      "  1.5\t3.6538\t\t0.20330\t\n",
      "  2.0\t4.3529\t\t0.12725\t\n",
      "  3.0\t6.8968\t\t0.04243\t\n",
      "  4.0\t14.9715\t\t0.00802\t\n"
     ]
    }
   ],
   "source": [
    "#!/usr/bin/env python3\n",
    "#==============================================================================\n",
    "# polytrope_shooting.py\n",
    "#\n",
    "# ***\n",
    "#\n",
    "# Author: Stanley A. Baronett\n",
    "# Created: 2022-11-19\n",
    "# Updated: 2022-11-19\n",
    "#==============================================================================\n",
    "import matplotlib.pyplot as plt\n",
    "import numpy as np\n",
    "import pandas as pd\n",
    "\n",
    "# (HKT04, eqs. 7.45, 7.48)\n",
    "yfunc = lambda x, n : 1 - (1/6)*x**2 + (n/120)*x**4 - (n*(8*n - 5)/15120)*x**6\n",
    "zfunc = lambda x, n : -(1/3)*x + (n/30)*x**3 - (n*(8*n - 5)/2520)*x**5\n",
    "yp = lambda x, y, z, n : z\n",
    "zp = lambda x, y, z, n : -y**n - (2/x)*z\n",
    "\n",
    "def rk4(n, xi, yi, zi, h):\n",
    "    \"\"\"\n",
    "    (HKT04, eq. 7.46)\n",
    "    \"\"\"\n",
    "    k1 = h*yp(xi, yi, zi, n)\n",
    "    l1 = h*zp(xi, yi, zi, n)\n",
    "    k2 = h*yp(xi + h/2, yi + k1/2, zi + l1/2, n)\n",
    "    l2 = h*zp(xi + h/2, yi + k1/2, zi + l1/2, n)\n",
    "    k3 = h*yp(xi + h/2, yi + k2/2, zi + l2/2, n)\n",
    "    l3 = h*zp(xi + h/2, yi + k2/2, zi + l2/2, n)\n",
    "    k4 = h*yp(xi + h, yi + k3, zi + l3, n)\n",
    "    l4 = h*zp(xi + h, yi + k3, zi + l3, n)\n",
    "    xi1 = xi + h\n",
    "    yi1 = yi + k1/6 + k2/3 + k3/3 + k4/6\n",
    "    zi1 = zi + l1/6 + l2/3 + l3/3 + l4/6\n",
    "\n",
    "    return xi1, yi1, zi1\n",
    "\n",
    "# Start\n",
    "ns = [0, 1.0, 1.5, 2.0, 3.0, 4.0] # polytrope indices\n",
    "\n",
    "print('-----------------------------------------------')\n",
    "print('Index n\\t  ξ₁\\t\\t-θₙ′(ξ₁)\\tρ_c/<ρ>')\n",
    "print('-----------------------------------------------')\n",
    "\n",
    "for n in ns:\n",
    "    x = 1e-16                         # ξ\n",
    "    y = yfunc(x, n)                   # θₙ\n",
    "    z = zfunc(x, n)                   # dθₙ/dξ = dy/dx\n",
    "    h = 1e-5                          # step size\n",
    "\n",
    "    while y.real > 0:\n",
    "        x, y, z = rk4(n, x, y, z, h)\n",
    "\n",
    "    print(f'  {n:.1f}\\t{x:.4f}\\t\\t{-z.real:.5f}\\t')"
   ]
  },
  {
   "cell_type": "code",
   "execution_count": 22,
   "metadata": {},
   "outputs": [
    {
     "name": "stdout",
     "output_type": "stream",
     "text": [
      "  4.0\t2.4495\t\t0.8165\t\n"
     ]
    }
   ],
   "source": [
    "xref = np.sqrt(6)\n",
    "ypref = np.sqrt(6)/3\n",
    "\n",
    "print(f'  {n:.1f}\\t{xref:.4f}\\t\\t{ypref:.4f}\\t')"
   ]
  }
 ],
 "metadata": {
  "kernelspec": {
   "display_name": "Python 3.9.13 ('athena')",
   "language": "python",
   "name": "python3"
  },
  "language_info": {
   "codemirror_mode": {
    "name": "ipython",
    "version": 3
   },
   "file_extension": ".py",
   "mimetype": "text/x-python",
   "name": "python",
   "nbconvert_exporter": "python",
   "pygments_lexer": "ipython3",
   "version": "3.9.13"
  },
  "orig_nbformat": 4,
  "vscode": {
   "interpreter": {
    "hash": "9128f2b0b55cd1dd9170491624f03886778a80466b44bfb83b9ec183519a0194"
   }
  }
 },
 "nbformat": 4,
 "nbformat_minor": 2
}
